{
 "cells": [
  {
   "cell_type": "code",
   "execution_count": null,
   "id": "exempt-marina",
   "metadata": {},
   "outputs": [],
   "source": [
    "from sklearn.datasets import make_blobs\n",
    "from matplotlib import pyplot\n",
    "import pandas as pd\n",
    "\n",
    "data,target=make_blobs(n_samples=30000000,n_features=5,centers=3,cluster_std=[1.0,3.0,2.0])\n",
    "\n",
    "#在2D图中绘制样本，每个样本颜色不同\n",
    "# pyplot.scatter(data[:,0],data[:,1],c=target);\n",
    "# pyplot.show()"
   ]
  },
  {
   "cell_type": "code",
   "execution_count": 2,
   "id": "static-beaver",
   "metadata": {},
   "outputs": [
    {
     "name": "stdout",
     "output_type": "stream",
     "text": [
      "[[ -5.40009279  -4.11644703   7.12807757  -2.16215896   3.58341238]\n",
      " [ -3.14793296 -11.24984487  -0.98783922   1.66551482  -7.14110339]\n",
      " [ -8.55504316   5.38988636  10.14854941  11.28769453  -8.04489852]\n",
      " ...\n",
      " [  1.53536919  -4.50207395  -1.64054595  -0.37292671  -9.59024888]\n",
      " [ -3.46579484  -4.47169211   5.79707137  -2.27052318   5.7031234 ]\n",
      " [ -6.95270758   2.53640553  10.5186124    9.71156249  -6.51697644]]\n",
      "[0 1 2 ... 1 0 2]\n"
     ]
    }
   ],
   "source": [
    "print(data)\n",
    "print(target)"
   ]
  },
  {
   "cell_type": "code",
   "execution_count": 17,
   "id": "wired-recycling",
   "metadata": {},
   "outputs": [
    {
     "data": {
      "text/plain": [
       "numpy.ndarray"
      ]
     },
     "execution_count": 17,
     "metadata": {},
     "output_type": "execute_result"
    }
   ],
   "source": [
    "type(data)"
   ]
  },
  {
   "cell_type": "code",
   "execution_count": 3,
   "id": "judicial-fault",
   "metadata": {},
   "outputs": [],
   "source": [
    "data3 = pd.DataFrame(data)"
   ]
  },
  {
   "cell_type": "code",
   "execution_count": 4,
   "id": "southwest-truck",
   "metadata": {},
   "outputs": [
    {
     "data": {
      "text/html": [
       "<div>\n",
       "<style scoped>\n",
       "    .dataframe tbody tr th:only-of-type {\n",
       "        vertical-align: middle;\n",
       "    }\n",
       "\n",
       "    .dataframe tbody tr th {\n",
       "        vertical-align: top;\n",
       "    }\n",
       "\n",
       "    .dataframe thead th {\n",
       "        text-align: right;\n",
       "    }\n",
       "</style>\n",
       "<table border=\"1\" class=\"dataframe\">\n",
       "  <thead>\n",
       "    <tr style=\"text-align: right;\">\n",
       "      <th></th>\n",
       "      <th>0</th>\n",
       "      <th>1</th>\n",
       "      <th>2</th>\n",
       "      <th>3</th>\n",
       "      <th>4</th>\n",
       "    </tr>\n",
       "  </thead>\n",
       "  <tbody>\n",
       "    <tr>\n",
       "      <th>0</th>\n",
       "      <td>-5.400093</td>\n",
       "      <td>-4.116447</td>\n",
       "      <td>7.128078</td>\n",
       "      <td>-2.162159</td>\n",
       "      <td>3.583412</td>\n",
       "    </tr>\n",
       "    <tr>\n",
       "      <th>1</th>\n",
       "      <td>-3.147933</td>\n",
       "      <td>-11.249845</td>\n",
       "      <td>-0.987839</td>\n",
       "      <td>1.665515</td>\n",
       "      <td>-7.141103</td>\n",
       "    </tr>\n",
       "    <tr>\n",
       "      <th>2</th>\n",
       "      <td>-8.555043</td>\n",
       "      <td>5.389886</td>\n",
       "      <td>10.148549</td>\n",
       "      <td>11.287695</td>\n",
       "      <td>-8.044899</td>\n",
       "    </tr>\n",
       "    <tr>\n",
       "      <th>3</th>\n",
       "      <td>-4.599301</td>\n",
       "      <td>-3.900174</td>\n",
       "      <td>7.296054</td>\n",
       "      <td>-0.938264</td>\n",
       "      <td>6.355937</td>\n",
       "    </tr>\n",
       "    <tr>\n",
       "      <th>4</th>\n",
       "      <td>3.248170</td>\n",
       "      <td>-6.228061</td>\n",
       "      <td>7.632163</td>\n",
       "      <td>4.715192</td>\n",
       "      <td>-8.501892</td>\n",
       "    </tr>\n",
       "    <tr>\n",
       "      <th>...</th>\n",
       "      <td>...</td>\n",
       "      <td>...</td>\n",
       "      <td>...</td>\n",
       "      <td>...</td>\n",
       "      <td>...</td>\n",
       "    </tr>\n",
       "    <tr>\n",
       "      <th>19999995</th>\n",
       "      <td>-4.926581</td>\n",
       "      <td>-10.283395</td>\n",
       "      <td>1.853870</td>\n",
       "      <td>2.445352</td>\n",
       "      <td>1.923209</td>\n",
       "    </tr>\n",
       "    <tr>\n",
       "      <th>19999996</th>\n",
       "      <td>1.075652</td>\n",
       "      <td>-11.251988</td>\n",
       "      <td>2.385286</td>\n",
       "      <td>3.287826</td>\n",
       "      <td>-7.671585</td>\n",
       "    </tr>\n",
       "    <tr>\n",
       "      <th>19999997</th>\n",
       "      <td>1.535369</td>\n",
       "      <td>-4.502074</td>\n",
       "      <td>-1.640546</td>\n",
       "      <td>-0.372927</td>\n",
       "      <td>-9.590249</td>\n",
       "    </tr>\n",
       "    <tr>\n",
       "      <th>19999998</th>\n",
       "      <td>-3.465795</td>\n",
       "      <td>-4.471692</td>\n",
       "      <td>5.797071</td>\n",
       "      <td>-2.270523</td>\n",
       "      <td>5.703123</td>\n",
       "    </tr>\n",
       "    <tr>\n",
       "      <th>19999999</th>\n",
       "      <td>-6.952708</td>\n",
       "      <td>2.536406</td>\n",
       "      <td>10.518612</td>\n",
       "      <td>9.711562</td>\n",
       "      <td>-6.516976</td>\n",
       "    </tr>\n",
       "  </tbody>\n",
       "</table>\n",
       "<p>20000000 rows × 5 columns</p>\n",
       "</div>"
      ],
      "text/plain": [
       "                 0          1          2          3         4\n",
       "0        -5.400093  -4.116447   7.128078  -2.162159  3.583412\n",
       "1        -3.147933 -11.249845  -0.987839   1.665515 -7.141103\n",
       "2        -8.555043   5.389886  10.148549  11.287695 -8.044899\n",
       "3        -4.599301  -3.900174   7.296054  -0.938264  6.355937\n",
       "4         3.248170  -6.228061   7.632163   4.715192 -8.501892\n",
       "...            ...        ...        ...        ...       ...\n",
       "19999995 -4.926581 -10.283395   1.853870   2.445352  1.923209\n",
       "19999996  1.075652 -11.251988   2.385286   3.287826 -7.671585\n",
       "19999997  1.535369  -4.502074  -1.640546  -0.372927 -9.590249\n",
       "19999998 -3.465795  -4.471692   5.797071  -2.270523  5.703123\n",
       "19999999 -6.952708   2.536406  10.518612   9.711562 -6.516976\n",
       "\n",
       "[20000000 rows x 5 columns]"
      ]
     },
     "execution_count": 4,
     "metadata": {},
     "output_type": "execute_result"
    }
   ],
   "source": [
    "data3"
   ]
  },
  {
   "cell_type": "code",
   "execution_count": 5,
   "id": "defined-precipitation",
   "metadata": {},
   "outputs": [],
   "source": [
    "data3.to_csv(\"data3.csv\", header=None, index=None, index_label=None)"
   ]
  },
  {
   "cell_type": "code",
   "execution_count": null,
   "id": "offshore-absence",
   "metadata": {},
   "outputs": [],
   "source": []
  }
 ],
 "metadata": {
  "kernelspec": {
   "display_name": "Python 3",
   "language": "python",
   "name": "python3"
  },
  "language_info": {
   "codemirror_mode": {
    "name": "ipython",
    "version": 3
   },
   "file_extension": ".py",
   "mimetype": "text/x-python",
   "name": "python",
   "nbconvert_exporter": "python",
   "pygments_lexer": "ipython3",
   "version": "3.8.8"
  }
 },
 "nbformat": 4,
 "nbformat_minor": 5
}
