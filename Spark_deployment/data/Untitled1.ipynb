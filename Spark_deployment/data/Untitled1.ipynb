{
 "cells": [
  {
   "cell_type": "code",
   "execution_count": 1,
   "id": "exempt-marina",
   "metadata": {},
   "outputs": [],
   "source": [
    "from sklearn.datasets import make_blobs\n",
    "from matplotlib import pyplot\n",
    "import pandas as pd\n",
    "\n",
    "data1gb,target=make_blobs(n_samples=20000000,n_features=5,centers=3,cluster_std=[1.0,3.0,2.0])\n",
    "data2gb,target=make_blobs(n_samples=20000000,n_features=5,centers=3,cluster_std=[1.0,3.0,2.0])\n",
    "\n",
    "# pyplot.scatter(data[:,0],data[:,1],c=target);\n",
    "# pyplot.show()"
   ]
  },
  {
   "cell_type": "code",
   "execution_count": 2,
   "id": "static-beaver",
   "metadata": {},
   "outputs": [
    {
     "name": "stdout",
     "output_type": "stream",
     "text": [
      "[[ -5.40009279  -4.11644703   7.12807757  -2.16215896   3.58341238]\n",
      " [ -3.14793296 -11.24984487  -0.98783922   1.66551482  -7.14110339]\n",
      " [ -8.55504316   5.38988636  10.14854941  11.28769453  -8.04489852]\n",
      " ...\n",
      " [  1.53536919  -4.50207395  -1.64054595  -0.37292671  -9.59024888]\n",
      " [ -3.46579484  -4.47169211   5.79707137  -2.27052318   5.7031234 ]\n",
      " [ -6.95270758   2.53640553  10.5186124    9.71156249  -6.51697644]]\n",
      "[0 1 2 ... 1 0 2]\n"
     ]
    }
   ],
   "source": [
    "print(data)\n",
    "print(target)"
   ]
  },
  {
   "cell_type": "code",
   "execution_count": 3,
   "id": "judicial-fault",
   "metadata": {},
   "outputs": [],
   "source": [
    "data1gb = pd.DataFrame(data1gb)\n",
    "data2gb = pd.DataFrame(data2gb)"
   ]
  },
  {
   "cell_type": "code",
   "execution_count": 5,
   "id": "defined-precipitation",
   "metadata": {},
   "outputs": [],
   "source": [
    "data1gb.to_csv(\"data1gb.csv\", header=None, index=None, index_label=None)\n",
    "data2gb.to_csv(\"data2gb.csv\", header=None, index=None, index_label=None)"
   ]
  },
  {
   "cell_type": "code",
   "execution_count": null,
   "id": "offshore-absence",
   "metadata": {},
   "outputs": [],
   "source": []
  }
 ],
 "metadata": {
  "kernelspec": {
   "display_name": "Python 3",
   "language": "python",
   "name": "python3"
  },
  "language_info": {
   "codemirror_mode": {
    "name": "ipython",
    "version": 3
   },
   "file_extension": ".py",
   "mimetype": "text/x-python",
   "name": "python",
   "nbconvert_exporter": "python",
   "pygments_lexer": "ipython3",
   "version": "3.8.8"
  }
 },
 "nbformat": 4,
 "nbformat_minor": 5
}
