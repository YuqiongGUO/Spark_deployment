{
 "cells": [
  {
   "cell_type": "code",
   "execution_count": 2,
   "metadata": {},
   "outputs": [],
   "source": [
    "import csv\n",
    "import pandas as pd\n",
    "\n",
    "csv_data = pd.read_csv('data.csv')\n",
    "# csv_data2 = csv_data.append(csv_data)\n",
    "# csv_data2 = csv_data2[0:100000]\n",
    "# csv_data3 = csv_data2.append(csv_data2)\n",
    "# csv_data4 = csv_data3.append(csv_data3)\n",
    "# csv_data5 = csv_data4.append(csv_data4)\n",
    "# csv_data6 = csv_data5.append(csv_data5)\n",
    "# csv_data7 = csv_data6.append(csv_data6)\n",
    "# csv_data8 = csv_data7.append(csv_data7)\n",
    "# csv_data9 = csv_data8.append(csv_data8)\n",
    "# csv_data10 = csv_data9.append(csv_data9)\n",
    "# csv_data11 = csv_data10.append(csv_data10)\n",
    "# print(csv_data10.shape)"
   ]
  },
  {
   "cell_type": "code",
   "execution_count": 5,
   "metadata": {},
   "outputs": [
    {
     "data": {
      "text/html": [
       "<div>\n",
       "<style scoped>\n",
       "    .dataframe tbody tr th:only-of-type {\n",
       "        vertical-align: middle;\n",
       "    }\n",
       "\n",
       "    .dataframe tbody tr th {\n",
       "        vertical-align: top;\n",
       "    }\n",
       "\n",
       "    .dataframe thead th {\n",
       "        text-align: right;\n",
       "    }\n",
       "</style>\n",
       "<table border=\"1\" class=\"dataframe\">\n",
       "  <thead>\n",
       "    <tr style=\"text-align: right;\">\n",
       "      <th></th>\n",
       "      <th>4.521</th>\n",
       "      <th>5140.8</th>\n",
       "    </tr>\n",
       "  </thead>\n",
       "  <tbody>\n",
       "    <tr>\n",
       "      <th>0</th>\n",
       "      <td>1.2017</td>\n",
       "      <td>2704.9</td>\n",
       "    </tr>\n",
       "    <tr>\n",
       "      <th>1</th>\n",
       "      <td>3.9718</td>\n",
       "      <td>3270.3</td>\n",
       "    </tr>\n",
       "    <tr>\n",
       "      <th>2</th>\n",
       "      <td>2.2233</td>\n",
       "      <td>3335.1</td>\n",
       "    </tr>\n",
       "    <tr>\n",
       "      <th>3</th>\n",
       "      <td>4.2241</td>\n",
       "      <td>4614.5</td>\n",
       "    </tr>\n",
       "    <tr>\n",
       "      <th>4</th>\n",
       "      <td>4.0206</td>\n",
       "      <td>2263.8</td>\n",
       "    </tr>\n",
       "    <tr>\n",
       "      <th>...</th>\n",
       "      <td>...</td>\n",
       "      <td>...</td>\n",
       "    </tr>\n",
       "    <tr>\n",
       "      <th>49997</th>\n",
       "      <td>9.1565</td>\n",
       "      <td>9683.2</td>\n",
       "    </tr>\n",
       "    <tr>\n",
       "      <th>49998</th>\n",
       "      <td>8.3827</td>\n",
       "      <td>8172.5</td>\n",
       "    </tr>\n",
       "    <tr>\n",
       "      <th>49999</th>\n",
       "      <td>9.7317</td>\n",
       "      <td>9143.0</td>\n",
       "    </tr>\n",
       "    <tr>\n",
       "      <th>50000</th>\n",
       "      <td>9.6661</td>\n",
       "      <td>8556.9</td>\n",
       "    </tr>\n",
       "    <tr>\n",
       "      <th>50001</th>\n",
       "      <td>9.4673</td>\n",
       "      <td>7283.1</td>\n",
       "    </tr>\n",
       "  </tbody>\n",
       "</table>\n",
       "<p>50002 rows × 2 columns</p>\n",
       "</div>"
      ],
      "text/plain": [
       "        4.521  5140.8\n",
       "0      1.2017  2704.9\n",
       "1      3.9718  3270.3\n",
       "2      2.2233  3335.1\n",
       "3      4.2241  4614.5\n",
       "4      4.0206  2263.8\n",
       "...       ...     ...\n",
       "49997  9.1565  9683.2\n",
       "49998  8.3827  8172.5\n",
       "49999  9.7317  9143.0\n",
       "50000  9.6661  8556.9\n",
       "50001  9.4673  7283.1\n",
       "\n",
       "[50002 rows x 2 columns]"
      ]
     },
     "execution_count": 5,
     "metadata": {},
     "output_type": "execute_result"
    }
   ],
   "source": [
    "csv_data"
   ]
  },
  {
   "cell_type": "code",
   "execution_count": 5,
   "metadata": {},
   "outputs": [
    {
     "name": "stdout",
     "output_type": "stream",
     "text": [
      "(39999998, 2)\n"
     ]
    }
   ],
   "source": [
    "csv_data9 = csv_data8.append(csv_data8)\n",
    "print(csv_data9.shape)"
   ]
  },
  {
   "cell_type": "code",
   "execution_count": 7,
   "metadata": {},
   "outputs": [],
   "source": [
    "csv_data8.to_csv(\"data8.csv\", header=None, index=None, index_label=None)"
   ]
  },
  {
   "cell_type": "code",
   "execution_count": null,
   "metadata": {},
   "outputs": [],
   "source": [
    "# N = 5\n",
    "# csv_batch_data = csv_data.tail(N)  # 取后5条数据\n",
    "# print(csv_batch_data.shape)  # (5, 9)\n",
    "# train_batch_data = csv_batch_data[list(range(3, 6))]  # 取这20条数据的3到5列值(索引从0开始)\n",
    "# print(train_batch_data)"
   ]
  }
 ],
 "metadata": {
  "kernelspec": {
   "display_name": "Python 3",
   "language": "python",
   "name": "python3"
  },
  "language_info": {
   "codemirror_mode": {
    "name": "ipython",
    "version": 3
   },
   "file_extension": ".py",
   "mimetype": "text/x-python",
   "name": "python",
   "nbconvert_exporter": "python",
   "pygments_lexer": "ipython3",
   "version": "3.8.8"
  }
 },
 "nbformat": 4,
 "nbformat_minor": 2
}
