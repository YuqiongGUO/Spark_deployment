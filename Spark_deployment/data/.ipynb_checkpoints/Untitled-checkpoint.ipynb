{
 "cells": [
  {
   "cell_type": "code",
   "execution_count": null,
   "metadata": {},
   "outputs": [],
   "source": [
    "import csv\n",
    "import pandas as pd\n",
    "\n",
    "csv_data = pd.read_csv('data.csv')\n",
    "csv_data2 = csv_data.append(csv_data)\n",
    "csv_data2 = csv_data2[0:100000]\n",
    "csv_data3 = csv_data2.append(csv_data2)\n",
    "csv_data4 = csv_data3.append(csv_data3)\n",
    "csv_data5 = csv_data4.append(csv_data4)\n",
    "csv_data6 = csv_data5.append(csv_data5)\n",
    "csv_data7 = csv_data6.append(csv_data6)\n",
    "csv_data8 = csv_data7.append(csv_data7)\n",
    "csv_data9 = csv_data8.append(csv_data8)\n",
    "csv_data10 = csv_data9.append(csv_data9)\n",
    "csv_data11 = csv_data10.append(csv_data10)\n",
    "print(csv_data10.shape)"
   ]
  },
  {
   "cell_type": "code",
   "execution_count": 5,
   "metadata": {},
   "outputs": [
    {
     "name": "stdout",
     "output_type": "stream",
     "text": [
      "(39999998, 2)\n"
     ]
    }
   ],
   "source": [
    "csv_data9 = csv_data8.append(csv_data8)\n",
    "print(csv_data9.shape)"
   ]
  },
  {
   "cell_type": "code",
   "execution_count": 7,
   "metadata": {},
   "outputs": [],
   "source": [
    "csv_data8.to_csv(\"data8.csv\", header=None, index=None, index_label=None)"
   ]
  },
  {
   "cell_type": "code",
   "execution_count": null,
   "metadata": {},
   "outputs": [],
   "source": [
    "# N = 5\n",
    "# csv_batch_data = csv_data.tail(N)  # 取后5条数据\n",
    "# print(csv_batch_data.shape)  # (5, 9)\n",
    "# train_batch_data = csv_batch_data[list(range(3, 6))]  # 取这20条数据的3到5列值(索引从0开始)\n",
    "# print(train_batch_data)"
   ]
  }
 ],
 "metadata": {
  "kernelspec": {
   "display_name": "Python 3",
   "language": "python",
   "name": "python3"
  },
  "language_info": {
   "codemirror_mode": {
    "name": "ipython",
    "version": 3
   },
   "file_extension": ".py",
   "mimetype": "text/x-python",
   "name": "python",
   "nbconvert_exporter": "python",
   "pygments_lexer": "ipython3",
   "version": "3.8.8"
  }
 },
 "nbformat": 4,
 "nbformat_minor": 2
}
